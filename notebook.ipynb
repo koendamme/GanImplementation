{
 "cells": [
  {
   "cell_type": "code",
   "execution_count": 145,
   "metadata": {
    "collapsed": true
   },
   "outputs": [],
   "source": [
    "import torchvision\n",
    "import torch\n",
    "import numpy as np\n",
    "from torch.utils.data import Subset, DataLoader\n",
    "import matplotlib.pyplot as plt\n",
    "from tqdm.notebook import tqdm\n",
    "import math\n",
    "plt.rcParams['image.cmap'] = 'gray'"
   ]
  },
  {
   "cell_type": "code",
   "execution_count": 146,
   "outputs": [],
   "source": [
    "transforms = torchvision.transforms.Compose([\n",
    "    torchvision.transforms.ToTensor(),\n",
    "    torchvision.transforms.Normalize(mean=0, std=1)\n",
    "])\n",
    "dataset = torchvision.datasets.MNIST(root='data', transform=transforms, download=True)\n",
    "data_five = Subset(dataset, np.where(dataset.targets == 5)[0])\n",
    "\n",
    "dataloader = DataLoader(data_five, batch_size=16, shuffle=True)"
   ],
   "metadata": {
    "collapsed": false
   }
  },
  {
   "cell_type": "code",
   "execution_count": 147,
   "outputs": [
    {
     "data": {
      "text/plain": "5421"
     },
     "execution_count": 147,
     "metadata": {},
     "output_type": "execute_result"
    }
   ],
   "source": [
    "len(data_five)"
   ],
   "metadata": {
    "collapsed": false
   }
  },
  {
   "cell_type": "code",
   "execution_count": 148,
   "outputs": [
    {
     "data": {
      "text/plain": "(tensor(0.), tensor(1.), torch.Size([1, 28, 28]))"
     },
     "execution_count": 148,
     "metadata": {},
     "output_type": "execute_result"
    }
   ],
   "source": [
    "torch.min(data_five[0][0]), torch.max(data_five[0][0]), data_five[0][0].shape"
   ],
   "metadata": {
    "collapsed": false
   }
  },
  {
   "cell_type": "code",
   "execution_count": 149,
   "outputs": [],
   "source": [
    "def weights_init(m):\n",
    "    classname = m.__class__.__name__\n",
    "    if classname.find('Linear') != -1:\n",
    "        m.weight.data.normal_(0.0, 0.02)"
   ],
   "metadata": {
    "collapsed": false
   }
  },
  {
   "cell_type": "code",
   "execution_count": 150,
   "outputs": [],
   "source": [
    "class GanComponent(torch.nn.Module):\n",
    "    def __init__(self):\n",
    "        super(GanComponent, self).__init__()\n",
    "\n",
    "    def lock(self):\n",
    "        for param in self.parameters():\n",
    "            param.requires_grad = False\n",
    "\n",
    "    def unlock(self):\n",
    "        for param in self.parameters():\n",
    "            param.requires_grad = True"
   ],
   "metadata": {
    "collapsed": false
   }
  },
  {
   "cell_type": "code",
   "execution_count": 151,
   "outputs": [],
   "source": [
    "class Generator(GanComponent):\n",
    "    def __init__(self, input_length, output_image_size):\n",
    "        super(Generator, self).__init__()\n",
    "        self.input = torch.nn.Linear(input_length, 256)\n",
    "        self.activation = torch.nn.ReLU()\n",
    "        self.dropout = torch.nn.Dropout(p=.3)\n",
    "        self.h1 = torch.nn.Linear(self.input.out_features, self.input.out_features*2)\n",
    "        self.h2 = torch.nn.Linear(self.h1.out_features, self.h1.out_features*2)\n",
    "        self.output = torch.nn.Linear(self.h2.out_features, output_image_size[1] * output_image_size[2])\n",
    "        self.sigmoid = torch.nn.Tanh()\n",
    "\n",
    "    def forward(self, x):\n",
    "        x = self.input(x)\n",
    "        x = self.activation(x)\n",
    "        x = self.dropout(x)\n",
    "        x = self.h1(x)\n",
    "        x = self.activation(x)\n",
    "        x = self.dropout(x)\n",
    "        x = self.h2(x)\n",
    "        x = self.activation(x)\n",
    "        x = self.dropout(x)\n",
    "        x = self.output(x)\n",
    "        x = self.sigmoid(x)\n",
    "        return x"
   ],
   "metadata": {
    "collapsed": false
   }
  },
  {
   "cell_type": "code",
   "execution_count": 152,
   "outputs": [],
   "source": [
    "class Discriminator(GanComponent):\n",
    "    def __init__(self, input_image_size):\n",
    "        super(Discriminator, self).__init__()\n",
    "\n",
    "        self.input = torch.nn.Linear(input_image_size[1] * input_image_size[2], 1024)\n",
    "        self.activation = torch.nn.LeakyReLU()\n",
    "        self.dropout = torch.nn.Dropout(p=.3)\n",
    "        self.h1 = torch.nn.Linear(self.input.out_features, self.input.out_features // 2)\n",
    "        self.h2 = torch.nn.Linear(self.h1.out_features, self.h1.out_features // 2)\n",
    "        self.output = torch.nn.Linear(self.h2.out_features, 1)\n",
    "        self.sigmoid = torch.nn.Sigmoid()\n",
    "\n",
    "    def forward(self, x):\n",
    "        x = self.input(x)\n",
    "        x = self.activation(x)\n",
    "        x = self.dropout(x)\n",
    "        x = self.h1(x)\n",
    "        x = self.activation(x)\n",
    "        x = self.dropout(x)\n",
    "        x = self.h2(x)\n",
    "        x = self.activation(x)\n",
    "        x = self.dropout(x)\n",
    "        x = self.output(x)\n",
    "        x = self.sigmoid(x)\n",
    "        return x"
   ],
   "metadata": {
    "collapsed": false
   }
  },
  {
   "cell_type": "markdown",
   "source": [
    "<h3> Training </h3>"
   ],
   "metadata": {
    "collapsed": false
   }
  },
  {
   "cell_type": "code",
   "execution_count": 153,
   "outputs": [
    {
     "data": {
      "text/plain": "  0%|          | 0/10 [00:00<?, ?it/s]",
      "application/vnd.jupyter.widget-view+json": {
       "version_major": 2,
       "version_minor": 0,
       "model_id": "dc8851f3b5ec4eacbff368ea23f64929"
      }
     },
     "metadata": {},
     "output_type": "display_data"
    },
    {
     "name": "stdout",
     "output_type": "stream",
     "text": [
      "Discriminiator loss: 1.3142329454421997, Generator loss: 0.6149820658133797\n",
      "Discriminiator loss: 1.2686309424121822, Generator loss: 0.7307853623125757\n",
      "Discriminiator loss: 1.0255821600424504, Generator loss: 0.8762632982920756\n",
      "Discriminiator loss: 0.6712571286698007, Generator loss: 1.1609250934778061\n",
      "Discriminiator loss: 0.5169445342194717, Generator loss: 1.4576977811380123\n",
      "Discriminiator loss: 0.3921645282819911, Generator loss: 2.016093026571921\n",
      "Discriminiator loss: 0.32846400066990417, Generator loss: 2.426959173165943\n",
      "Discriminiator loss: 0.3619104783355662, Generator loss: 2.450923764600163\n",
      "Discriminiator loss: 0.28570647869577803, Generator loss: 2.856442598466676\n",
      "Discriminiator loss: 0.22669695548515403, Generator loss: 3.2257960250595676\n"
     ]
    }
   ],
   "source": [
    "device = torch.device(\"cuda:0\" if torch.cuda.is_available() else \"cpu\")\n",
    "\n",
    "image_shape = data_five[0][0].shape\n",
    "noise_vector_length = 200\n",
    "gen = Generator(noise_vector_length, data_five[0][0].shape)\n",
    "gen = gen.to(device)\n",
    "gen.apply(weights_init)\n",
    "discr = Discriminator(data_five[0][0].shape)\n",
    "discr.apply(weights_init)\n",
    "discr = discr.to(device)\n",
    "\n",
    "n_iterations = 10\n",
    "k = 1\n",
    "\n",
    "criterion = torch.nn.BCELoss()\n",
    "\n",
    "gen_optimizer = torch.optim.Adam(gen.parameters(), lr=.00001)\n",
    "discr_optimizer = torch.optim.Adam(discr.parameters(), lr=.00001)\n",
    "\n",
    "for i in tqdm(range(n_iterations)):\n",
    "    running_discr_loss, running_gen_loss = 0.0, 0.0\n",
    "\n",
    "    for batch, _ in dataloader:\n",
    "        batch = batch.to(device)\n",
    "\n",
    "        # Update Discriminator\n",
    "        discr.zero_grad()\n",
    "        # Train with real batch\n",
    "        discr_real_output = discr(batch.flatten(start_dim=1))\n",
    "        loss_D_real = criterion(discr_real_output, torch.ones(batch.shape[0], 1, device=device))\n",
    "        loss_D_real.backward()\n",
    "\n",
    "        # Train with fake batch\n",
    "        noise_batch = torch.normal(0, 1, size=(batch.shape[0], noise_vector_length), device=device)\n",
    "        fake = gen(noise_batch)\n",
    "        discr_fake_output = discr(fake.detach())\n",
    "\n",
    "        loss_D_fake = criterion(discr_fake_output, torch.zeros(batch.shape[0], 1, device=device))\n",
    "        loss_D_fake.backward()\n",
    "        loss_D = loss_D_real + loss_D_fake\n",
    "        running_discr_loss += loss_D.item()\n",
    "\n",
    "        discr_optimizer.step()\n",
    "\n",
    "        # Update generator\n",
    "        gen.zero_grad()\n",
    "        discr_output = discr(fake)\n",
    "        loss_G = criterion(discr_output, torch.ones(batch.shape[0], 1, device=device))\n",
    "        running_gen_loss += loss_G.item()\n",
    "\n",
    "        loss_G.backward()\n",
    "        gen_optimizer.step()\n",
    "\n",
    "        # # noise_batch = torch.rand((batch.shape[0], noise_vector_length))\n",
    "        #\n",
    "        # discr_real_output = discr(batch.flatten(start_dim=1))\n",
    "        # discr_fake_output = discr(gen(noise_batch))\n",
    "        # # discr_loss = ((torch.log(discr_real_output) + torch.log(1-discr_fake_output))).mean()\n",
    "        # running_discr_loss += discr_loss.item()\n",
    "        # discr_optimizer.zero_grad()\n",
    "        # discr_loss.backward()\n",
    "        # discr_optimizer.step()\n",
    "        #\n",
    "        # noise_batch = torch.rand((batch.shape[0], noise_vector_length), device=device)\n",
    "        #\n",
    "        # # gen_loss = torch.log(1-discr(gen(noise_batch))).mean()\n",
    "        # running_gan_loss += gen_loss.item()\n",
    "        #\n",
    "        # gen_optimizer.zero_grad()\n",
    "        # gen_loss.backward()\n",
    "        # gen_optimizer.step()\n",
    "\n",
    "    print(f\"Discriminiator loss: {running_discr_loss/(len(dataloader))}, Generator loss: {running_gen_loss/len(dataloader)}\")"
   ],
   "metadata": {
    "collapsed": false
   }
  },
  {
   "cell_type": "code",
   "execution_count": 154,
   "outputs": [
    {
     "data": {
      "text/plain": "<Figure size 1500x1500 with 5 Axes>",
      "image/png": "[encoded data removed]"
     },
     "metadata": {},
     "output_type": "display_data"
    }
   ],
   "source": [
    "figs, axs = plt.subplots(1, 5, figsize=(15, 15))\n",
    "# noise_sample = torch.rand((5, noise_vector_length))\n",
    "noise_sample = torch.normal(0, 1, size=(5, noise_vector_length), device=device)\n",
    "\n",
    "output = gen(noise_sample)\n",
    "output_shape = dataset[0][0].shape\n",
    "for i in range(5):\n",
    "    reshaped = torch.reshape(output[i], output_shape)\n",
    "    axs[i].imshow(reshaped.cpu().detach().numpy()[0])"
   ],
   "metadata": {
    "collapsed": false
   }
  },
  {
   "cell_type": "code",
   "execution_count": 155,
   "outputs": [],
   "source": [
    "noise_batch = torch.rand((1, noise_vector_length))"
   ],
   "metadata": {
    "collapsed": false
   }
  },
  {
   "cell_type": "code",
   "execution_count": 156,
   "outputs": [
    {
     "data": {
      "text/plain": "(tensor(0.0060), tensor(0.9879))"
     },
     "execution_count": 156,
     "metadata": {},
     "output_type": "execute_result"
    }
   ],
   "source": [
    "torch.min(noise_batch), torch.max(noise_batch)"
   ],
   "metadata": {
    "collapsed": false
   }
  },
  {
   "cell_type": "code",
   "execution_count": 156,
   "outputs": [],
   "source": [],
   "metadata": {
    "collapsed": false
   }
  }
 ],
 "metadata": {
  "kernelspec": {
   "display_name": "Python 3",
   "language": "python",
   "name": "python3"
  },
  "language_info": {
   "codemirror_mode": {
    "name": "ipython",
    "version": 2
   },
   "file_extension": ".py",
   "mimetype": "text/x-python",
   "name": "python",
   "nbconvert_exporter": "python",
   "pygments_lexer": "ipython2",
   "version": "2.7.6"
  }
 },
 "nbformat": 4,
 "nbformat_minor": 0
}
